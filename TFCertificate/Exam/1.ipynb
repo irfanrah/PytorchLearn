{
 "cells": [
  {
   "cell_type": "code",
   "execution_count": null,
   "id": "fa1d5d6f",
   "metadata": {},
   "outputs": [],
   "source": [
    "# ======================================================================\n",
    "# There are 5 questions in this exam with increasing difficulty from 1-5.\n",
    "# Please note that the weight of the grade for the question is relative\n",
    "# to its difficulty. So your Category 1 question will score significantly\n",
    "# less than your Category 5 question.\n",
    "#\n",
    "# Don't use lambda layers in your model.\n",
    "# You do not need them to solve the question.\n",
    "# Lambda layers are not supported by the grading infrastructure.\n",
    "#\n",
    "# You must use the Submit and Test model button to submit your model\n",
    "# at least once in this category before you finally submit your exam,\n",
    "# otherwise you will score zero for this category.\n",
    "# ======================================================================\n",
    "#\n",
    "# Getting Started Question\n",
    "#\n",
    "# Given this data, train a neural network to match the xs to the ys\n",
    "# So that a predictor for a new value of X will give a float value\n",
    "# very close to the desired answer\n",
    "# i.e. print(model.predict([10.0])) would give a satisfactory result\n",
    "# The test infrastructure expects a trained model that accepts\n",
    "# an input shape of [1]\n",
    "\n",
    "import numpy as np\n",
    "import tensorflow as tf\n",
    "\n",
    "def solution_model():\n",
    "    xs = np.array([-1.0, 0.0, 1.0, 2.0, 3.0, 4.0], dtype=float)\n",
    "    ys = np.array([5.0, 6.0, 7.0, 8.0, 9.0, 10.0], dtype=float)\n",
    "\n",
    "    # YOUR CODE HERE\n",
    "    model = tf.keras.models.Sequential([\n",
    "        tf.keras.layers.Dense(1, input_shape = [1] , name =\"input\"),\n",
    "        tf.keras.layers.Dense(1 , activation = 'relu' , name = \"out\")\n",
    "    ])\n",
    "    model.compile(optimizer = \"sgd\" , loss='mean_squared_error' )\n",
    "    history = model.fit(xs,ys , epochs = 5000)\n",
    "    print(model.predict([10.0]))\n",
    "    return model\n",
    "\n",
    "# Note that you'll need to save your model as a .h5 like this.\n",
    "# When you press the Submit and Test button, your saved .h5 model will\n",
    "# be sent to the testing infrastructure for scoring\n",
    "# and the score will be returned to you.\n",
    "if __name__ == '__main__':\n",
    "    model = solution_model()\n",
    "    model.save(\"mymodel.h5\")\n"
   ]
  }
 ],
 "metadata": {
  "kernelspec": {
   "display_name": "Python 3 (ipykernel)",
   "language": "python",
   "name": "python3"
  },
  "language_info": {
   "codemirror_mode": {
    "name": "ipython",
    "version": 3
   },
   "file_extension": ".py",
   "mimetype": "text/x-python",
   "name": "python",
   "nbconvert_exporter": "python",
   "pygments_lexer": "ipython3",
   "version": "3.8.10"
  }
 },
 "nbformat": 4,
 "nbformat_minor": 5
}
