{
 "cells": [
  {
   "cell_type": "code",
   "execution_count": 1,
   "id": "160ad40e",
   "metadata": {},
   "outputs": [],
   "source": [
    "import torch\n",
    "from torch.utils.data import DataLoader , TensorDataset\n",
    "\n",
    "import torch.optim as optim\n",
    "import torch.nn as nn\n",
    "import numpy as np\n",
    "import sklearn\n",
    "from sklearn.model_selection import train_test_split\n",
    "from torch.utils.data.sampler import SubsetRandomSampler\n"
   ]
  },
  {
   "cell_type": "code",
   "execution_count": 2,
   "id": "fd178d5b",
   "metadata": {},
   "outputs": [],
   "source": [
    "import time\n",
    "import os\n",
    "from tqdm import tqdm\n",
    "from tensorboardX import SummaryWriter\n",
    "\n",
    "from ImageDataset import ImageDataset\n",
    "from ImageModel import ImageModel"
   ]
  },
  {
   "cell_type": "code",
   "execution_count": 3,
   "id": "68a9d101",
   "metadata": {},
   "outputs": [],
   "source": [
    "device = torch.device('cuda' if torch.cuda.is_available() else 'cpu')\n",
    "writer = SummaryWriter()"
   ]
  },
  {
   "cell_type": "code",
   "execution_count": 4,
   "id": "d92928bc",
   "metadata": {},
   "outputs": [
    {
     "name": "stdout",
     "output_type": "stream",
     "text": [
      "Dataset length : 10\n",
      "all set to indices : [0, 1, 2, 3, 4, 5, 6, 7, 8, 9]\n",
      "train_indices: [0, 1, 2, 3, 4, 5], val_indices: [6, 7], test_inidices: [8, 9]\n"
     ]
    }
   ],
   "source": [
    "dataset = ImageDataset()\n",
    "dataset_length = len(dataset)\n",
    "print(f\"Dataset length : {dataset_length}\")\n",
    "\n",
    "indices = list(range(dataset_length))\n",
    "print(f\"all set to indices : {indices}\")\n",
    "\n",
    "train_split = 0.6\n",
    "val_split = 0.2\n",
    "train_split = int(np.floor(train_split * dataset_length))\n",
    "val_split = int(np.floor(val_split * dataset_length))\n",
    "train_indices, val_indices , test_inidices = indices[:train_split], indices[train_split:train_split +val_split] , indices[train_split+val_split:]\n",
    "\n",
    "print(f\"train_indices: {train_indices}, val_indices: {val_indices}, test_inidices: {test_inidices}\")\n",
    "\n",
    "train_sampler = SubsetRandomSampler(train_indices)\n",
    "valid_sampler = SubsetRandomSampler(val_indices)\n",
    "test_sampler = SubsetRandomSampler(test_inidices)\n",
    "\n",
    "\n",
    "train_loader = DataLoader(dataset, batch_size=2, sampler=train_sampler)\n",
    "validation_loader = DataLoader(dataset, batch_size=2,sampler=valid_sampler)\n",
    "test_loader = DataLoader(dataset, batch_size=2,sampler=test_sampler)\n",
    "\n"
   ]
  },
  {
   "cell_type": "code",
   "execution_count": 5,
   "id": "8a7d8431",
   "metadata": {},
   "outputs": [],
   "source": [
    "model = ImageModel()"
   ]
  },
  {
   "cell_type": "code",
   "execution_count": 6,
   "id": "39f7ba8d",
   "metadata": {},
   "outputs": [
    {
     "name": "stdout",
     "output_type": "stream",
     "text": [
      "torch.Size([2, 1, 8192])\n",
      "torch.Size([2, 1, 8192])\n",
      "torch.Size([2, 1, 8192])\n",
      "torch.Size([2, 1, 8192])\n",
      "torch.Size([2, 1, 8192])\n",
      "torch.Size([2, 1, 8192])\n"
     ]
    }
   ],
   "source": [
    "EPOCHS = 2\n",
    "\n",
    "for epoch in range(EPOCHS):\n",
    "    model.train()\n",
    "    \n",
    "    for i, (X1,X2,Y) in enumerate(train_loader):\n",
    "        output = model(X1,X2, Y)\n",
    "        print(output.shape)\n",
    "        #loss = crietion(output, Y)\n",
    "        #loss.backward() \n",
    "        \n",
    "        #optimizer.step() # karna udah ada gradient, kita update wight dengan ini\n",
    "        #optimizer.zero_grad() \n",
    "        \n",
    "    #print(f\"\\rEpochs: {i+1} / {epochs}\" , end=\" \")\n",
    "        "
   ]
  },
  {
   "cell_type": "code",
   "execution_count": null,
   "id": "408f1408",
   "metadata": {},
   "outputs": [],
   "source": []
  },
  {
   "cell_type": "code",
   "execution_count": null,
   "id": "cf608e80",
   "metadata": {},
   "outputs": [],
   "source": []
  }
 ],
 "metadata": {
  "kernelspec": {
   "display_name": "Python 3 (ipykernel)",
   "language": "python",
   "name": "python3"
  },
  "language_info": {
   "codemirror_mode": {
    "name": "ipython",
    "version": 3
   },
   "file_extension": ".py",
   "mimetype": "text/x-python",
   "name": "python",
   "nbconvert_exporter": "python",
   "pygments_lexer": "ipython3",
   "version": "3.8.10"
  }
 },
 "nbformat": 4,
 "nbformat_minor": 5
}
